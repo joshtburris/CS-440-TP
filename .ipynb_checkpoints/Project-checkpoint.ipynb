{
 "cells": [
  {
   "cell_type": "markdown",
   "metadata": {},
   "source": [
    "# CS 440 Final Project: Clickbait Detection"
   ]
  },
  {
   "cell_type": "markdown",
   "metadata": {},
   "source": [
    "### Team members: Joshua Burris, Caleb Tong"
   ]
  },
  {
   "cell_type": "code",
   "execution_count": 255,
   "metadata": {},
   "outputs": [],
   "source": [
    "# Testing\n",
    "testing_mode = False\n",
    "argv = ['train/train_clickbait.txt', 'test/test_clickbait.txt', 'train/train_nonclickbait.txt', 'test/test_nonclickbait.txt']"
   ]
  },
  {
   "cell_type": "markdown",
   "metadata": {},
   "source": [
    "## Language Model:"
   ]
  },
  {
   "cell_type": "code",
   "execution_count": 256,
   "metadata": {},
   "outputs": [],
   "source": [
    "import math, string\n",
    "from collections import Counter\n",
    "\n",
    "class language_model:\n",
    "    '''\n",
    "    Initialize a language model\n",
    "\n",
    "    Parameters:\n",
    "    ngram specifies the type of model:  \n",
    "    unigram (ngram = 1), bigram (ngram = 2), trigram (ngram = 3), etc.\n",
    "    '''\n",
    "    def __init__(self, ngram=1) :\n",
    "        self.ngram = ngram\n",
    "    \n",
    "    '''\n",
    "    Trains our language model on all sentences in a given file (provided the file name).\n",
    "    V: The number of total unigrams.\n",
    "    total_count: The total sum of the unigram frequencies.\n",
    "    '''\n",
    "    def train(self, text) :\n",
    "        \n",
    "        # Get sentences\n",
    "        sentences = self.get_sentences(text)\n",
    "        \n",
    "        # Get unigram frequency data\n",
    "        self.unigrams = Counter()\n",
    "        for s in sentences :\n",
    "            for w in s.split() :\n",
    "                self.unigrams[w] += 1\n",
    "        \n",
    "        if testing_mode :\n",
    "            print('Unigrams:')\n",
    "            for word, freq in self.unigrams.most_common(10) :\n",
    "                print(\"{}\\t{}\".format(word, freq))\n",
    "            print()\n",
    "            \n",
    "        # Get the number of total unigrams, and the total sum of their frequencies\n",
    "        self.V = len(self.unigrams)\n",
    "        self.total_count = sum(self.unigrams.values())\n",
    "        \n",
    "        # If we are using an ngram of 2 or more we need a frequency list of bigrams\n",
    "        if self.ngram > 1:\n",
    "            self.bigrams = Counter()\n",
    "            \n",
    "            for s in sentences :\n",
    "                words = s.split()\n",
    "                for i in range(len(words) - 1):\n",
    "                    self.bigrams[words[i] +' '+ words[i+1]] += 1\n",
    "                        \n",
    "            # Update V and total_count if we are using more than one gram\n",
    "            self.V = len(self.bigrams)\n",
    "            self.total_count = sum(self.bigrams.values())\n",
    "            \n",
    "            if testing_mode :\n",
    "                print('Bigrams:')\n",
    "                for word, freq in self.bigrams.most_common(10) :\n",
    "                    print(\"{}\\t\\t{}\".format(word, freq))\n",
    "                print()\n",
    "        \n",
    "        # If we are using an ngram of 3 or more we need a frequency list of trigrams\n",
    "        if self.ngram > 2:\n",
    "            self.trigrams = Counter()\n",
    "            \n",
    "            for s in sentences :\n",
    "                words = s.split()\n",
    "                for i in range(len(words) - 2):\n",
    "                    self.trigrams[words[i] +' '+ words[i+1] +' '+ words[i+2]] += 1\n",
    "            \n",
    "            # Update V and total_count if we are using more than one gram\n",
    "            self.V = len(self.trigrams)\n",
    "            self.total_count = sum(self.trigrams.values())\n",
    "            \n",
    "            if testing_mode :\n",
    "                print('Trigrams:')\n",
    "                for word, freq in self.trigrams.most_common(10) :\n",
    "                    print(\"{}\\t\\t\\t{}\".format(word, freq))\n",
    "                print()\n",
    "        \n",
    "        if testing_mode :\n",
    "            print('Number of ngrams:', self.V)\n",
    "            print('Total of ngram frequencies:', self.total_count)\n",
    "            print()\n",
    "    \n",
    "    '''\n",
    "    Tests our language model on all sentences in a given file (provided the file name).\n",
    "    Returns: The perplexity value calculated from the provided sentences in the provided file.\n",
    "    sparsity: The ratio of n-grams not in the frequency data over those that were in the frequency data.\n",
    "    '''\n",
    "    def test(self, text) :\n",
    "        \n",
    "        # Get sentences\n",
    "        sentences = self.get_sentences(text)\n",
    "        \n",
    "        # Calculate sparsity\n",
    "        non_entries = 0\n",
    "        entries = 0\n",
    "        for s in sentences :\n",
    "            words = s.split()\n",
    "            for i in range(len(words) - (self.ngram - 1)) :\n",
    "                gram = ' '.join(words[i:i+self.ngram])\n",
    "                if self.count([gram]) :\n",
    "                    non_entries += 1\n",
    "                entries += 1\n",
    "        \n",
    "        self.sparsity = non_entries / entries\n",
    "        \n",
    "        return self.perplexity(sentences)\n",
    "    \n",
    "    '''\n",
    "    Returns the perplexity of a list of sentences given by the equation: PP(W) = 2^E(W)\n",
    "    '''\n",
    "    def perplexity(self, sentences):\n",
    "        return math.pow(2, self.entropy(sentences))\n",
    "    \n",
    "    '''\n",
    "    Returns the entropy of a list of sentences given by the equation: E(W) = Sum(P(w_i, w_(i-k)...w_(i-1)))\n",
    "    '''\n",
    "    def entropy(self, sentences):\n",
    "        e = 0\n",
    "        offset = self.ngram - 1\n",
    "        length = 0\n",
    "        \n",
    "        for s in sentences :\n",
    "            words = s.split()\n",
    "            length += len(words)\n",
    "            for i in range(offset, len(words)) :\n",
    "                # context is the previous word/words for the bigram/trigram.\n",
    "                context = words[i - offset : i]\n",
    "                e += -math.log(self.probability(words[i], context), 2)  \n",
    "        return e / length\n",
    "    \n",
    "    '''\n",
    "    Returns the probability of a word given by the equation: P(w_i | w_(i-1)) = C(w_(i-1), w_i) / C(w_(i-1))\n",
    "    '''\n",
    "    def probability(self, word, context):\n",
    "        return (self.count(context + [word]) + 1) / (self.count(context) + self.V)\n",
    "    \n",
    "    '''\n",
    "    Returns the frequency of a list of words you give it as context. It can be used for any ngram context.\n",
    "    '''\n",
    "    def count(self, context):\n",
    "        size = len(context)\n",
    "        words = ' '.join(context)\n",
    "        \n",
    "        if size == 1: return self.unigrams.setdefault(words, 0)\n",
    "        if size == 2: return self.bigrams.setdefault(words, 0)\n",
    "        if size == 3: return self.trigrams.setdefault(words, 0)\n",
    "        \n",
    "        return 0\n",
    "    \n",
    "    def get_sentences(self, text):\n",
    "        \n",
    "        sentences = []\n",
    "        \n",
    "        lines = text.split('\\n')\n",
    "        \n",
    "        for l in lines :\n",
    "            # Convert to lower case.\n",
    "            l = l.lower()\n",
    "            \n",
    "            # Convert question marks (?), colons (:) and exclamation marks (!) to periods.\n",
    "            # Dashes should be converted to spaces.\n",
    "            # Remove all punctuation marks other than the period (commas, semicolons, underscores and quotes).\n",
    "            l = l.translate(str.maketrans('?:!-', '... ', string.punctuation.replace('.', '')))\n",
    "            \n",
    "            # Replace whitespace with a single space.\n",
    "            l = ' '.join(l.split())\n",
    "            \n",
    "            new_line = ''\n",
    "            for i in range(len(l)) :\n",
    "                if l[i] == '.' and i != len(l) - 1 and l[i+1] != ' ' :\n",
    "                    continue\n",
    "                else :\n",
    "                    new_line += l[i]\n",
    "            l = new_line\n",
    "            \n",
    "            # Parse the line into sentences, adding beginning-of-sentence and end-of-sentence tokens.\n",
    "            for s in l.split('.') :\n",
    "                s = s.strip()\n",
    "                if s :\n",
    "                    sentences.append('<s> '+ s +' </s>')\n",
    "        \n",
    "        return sentences"
   ]
  },
  {
   "cell_type": "markdown",
   "metadata": {},
   "source": [
    "## Which N-gram is the most useful:"
   ]
  },
  {
   "cell_type": "code",
   "execution_count": 257,
   "metadata": {},
   "outputs": [
    {
     "data": {
      "image/png": "[encoded data removed]",
      "text/plain": [
       "<Figure size 432x288 with 1 Axes>"
      ]
     },
     "metadata": {
      "needs_background": "light"
     },
     "output_type": "display_data"
    },
    {
     "data": {
      "image/png": "[encoded data removed]",
      "text/plain": [
       "<Figure size 432x288 with 1 Axes>"
      ]
     },
     "metadata": {
      "needs_background": "light"
     },
     "output_type": "display_data"
    },
    {
     "data": {
      "image/png": "[encoded data removed]",
      "text/plain": [
       "<Figure size 432x288 with 1 Axes>"
      ]
     },
     "metadata": {
      "needs_background": "light"
     },
     "output_type": "display_data"
    }
   ],
   "source": [
    "import matplotlib.pyplot as plt\n",
    "import numpy as np\n",
    "\n",
    "def get_bins(num_bins, maximum, data) :\n",
    "    bins = [0]*num_bins\n",
    "    for p in data :\n",
    "        if p < maximum :\n",
    "            bins[int((p / maximum) * num_bins)] += 1\n",
    "    return bins\n",
    "\n",
    "# Graph shaping values:\n",
    "num_bins = 25\n",
    "width = 0.35\n",
    "\n",
    "for ngram in range(1, 4) :\n",
    "    nc_perps = []\n",
    "    c_perps = []\n",
    "    maximum = 0\n",
    "    \n",
    "    c_model = language_model(ngram)\n",
    "    c_model.train(open(argv[0], 'r').read())\n",
    "    for line in open(argv[1], 'r').readlines() :\n",
    "        line = line.strip()\n",
    "        if line :\n",
    "            perp = c_model.test(line)\n",
    "            c_perps.append(perp)\n",
    "            if perp > maximum :\n",
    "                maximum = perp\n",
    "\n",
    "    nc_model = language_model(ngram)\n",
    "    nc_model.train(open(argv[2], 'r').read())\n",
    "    for line in open(argv[3], 'r').readlines() :\n",
    "        line = line.strip()\n",
    "        if line :\n",
    "            perp = nc_model.test(line)\n",
    "            nc_perps.append(perp)\n",
    "            if perp > maximum :\n",
    "                maximum = perp\n",
    "\n",
    "    nc_bins = get_bins(num_bins, maximum, nc_perps)\n",
    "    c_bins = get_bins(num_bins, maximum, c_perps)\n",
    "\n",
    "    ind = np.arange(num_bins)\n",
    "\n",
    "    plt.bar(ind, nc_bins, width, label='Non-clickbait')\n",
    "    plt.bar(ind+width, c_bins, width, label='Clickbait')\n",
    "\n",
    "    plt.xlabel('Perplexity')\n",
    "    plt.ylabel('# of articles')\n",
    "    title = 'Perplexity distribution of article headlines'\n",
    "    if ngram == 1 : plt.suptitle(title + ' (Unigrams)')\n",
    "    elif ngram == 2 : plt.suptitle(title + ' (Bigrams)')\n",
    "    elif ngram == 3 : plt.suptitle(title + ' (Trigrams)')\n",
    "    plt.legend(loc='best')\n",
    "\n",
    "    # You need to change xticks or else they will display 0 to num_bins\n",
    "    plt.xticks(ind + width / 2, (int(((i+1) / num_bins) * maximum) for i in range(num_bins)), rotation='vertical')\n",
    "    plt.subplots_adjust(bottom=0.2)\n",
    "    \n",
    "    plt.show()"
   ]
  },
  {
   "cell_type": "markdown",
   "metadata": {},
   "source": [
    "## Calculating if it's clickbait:"
   ]
  },
  {
   "cell_type": "code",
   "execution_count": 258,
   "metadata": {},
   "outputs": [],
   "source": [
    "best_ngram = 1\n",
    "\n",
    "clickbait_model = language_model(best_ngram)\n",
    "clickbait_model.train(open(argv[0], 'r').read())\n",
    "\n",
    "notclickbait_model = language_model(best_ngram)\n",
    "notclickbait_model.train(open(argv[2], 'r').read())\n",
    "\n",
    "def is_clickbait(article_headline) :\n",
    "    clickbait_perp = clickbait_model.test(article_headline)\n",
    "    notclickbait_perp = notclickbait_model.test(article_headline)\n",
    "    \n",
    "    if clickbait_perp < notclickbait_perp :\n",
    "        return True, 100*( 1-(clickbait_perp/(clickbait_perp+notclickbait_perp)) )\n",
    "    else :\n",
    "        return False, 100*( 1-(notclickbait_perp/(clickbait_perp+notclickbait_perp)) )"
   ]
  },
  {
   "cell_type": "markdown",
   "metadata": {},
   "source": [
    "## How accurate is our model:"
   ]
  },
  {
   "cell_type": "code",
   "execution_count": 259,
   "metadata": {},
   "outputs": [
    {
     "name": "stdout",
     "output_type": "stream",
     "text": [
      "ngram: 1\n",
      "Clickbait accuracy: 95.49%\n",
      "Nonclickbait accuracy: 77.48%\n",
      "\n",
      "ngram: 2\n",
      "Clickbait accuracy: 94.45%\n",
      "Nonclickbait accuracy: 55.30%\n",
      "\n",
      "ngram: 3\n",
      "Clickbait accuracy: 93.55%\n",
      "Nonclickbait accuracy: 9.31%\n",
      "\n"
     ]
    }
   ],
   "source": [
    "for ngram in range(1, 4) :\n",
    "    print('ngram:', ngram)\n",
    "    \n",
    "    c_model = language_model(ngram)\n",
    "    c_model.train(open(argv[0], 'r').read())\n",
    "    \n",
    "    nc_model = language_model(ngram)\n",
    "    nc_model.train(open(argv[2], 'r').read())\n",
    "    \n",
    "    correct = 0.0\n",
    "    total = 0.0\n",
    "    for line in open(argv[1], 'r').readlines() :\n",
    "        line = line.strip()\n",
    "        if line :\n",
    "            c_perp = c_model.test(line)\n",
    "            nc_perp = nc_model.test(line)\n",
    "            if c_perp < nc_perp :\n",
    "                correct += 1.0\n",
    "            total += 1.0\n",
    "    \n",
    "    c_accuracy = correct / total\n",
    "    print('Clickbait accuracy: {:.2f}%'.format(100.0*c_accuracy))\n",
    "    \n",
    "    correct = 0.0\n",
    "    total = 0.0\n",
    "    for line in open(argv[3], 'r').readlines() :\n",
    "        line = line.strip()\n",
    "        if line :\n",
    "            c_perp = c_model.test(line)\n",
    "            nc_perp = nc_model.test(line)\n",
    "            if nc_perp < c_perp :\n",
    "                correct += 1.0\n",
    "            total += 1.0\n",
    "    \n",
    "    nc_accuracy = correct / total\n",
    "    print('Nonclickbait accuracy: {:.2f}%'.format(100.0*nc_accuracy))\n",
    "    print()"
   ]
  },
  {
   "cell_type": "markdown",
   "metadata": {},
   "source": [
    "## Try it yourself:"
   ]
  },
  {
   "cell_type": "code",
   "execution_count": null,
   "metadata": {},
   "outputs": [
    {
     "name": "stdout",
     "output_type": "stream",
     "text": [
      "Press \"stop\", \"quit\", or \"exit\" to stop\n",
      "\n"
     ]
    }
   ],
   "source": [
    "print(\"Press \\\"stop\\\", \\\"quit\\\", or \\\"exit\\\" to stop\", end='\\n\\n')\n",
    "\n",
    "while True :\n",
    "    article_headline = input('Give me an article headline: ').lower()\n",
    "    \n",
    "    if article_headline == 'stop' or article_headline == 'exit' or article_headline == 'quit' :\n",
    "        break\n",
    "    \n",
    "    is_cb, percentage = is_clickbait(article_headline)\n",
    "    \n",
    "    if is_cb :\n",
    "        print(\"We are {:.2f}% sure it's clickbait\".format(percentage))\n",
    "    else :\n",
    "        print(\"We are {:.2f}% sure it's not clickbait\".format(percentage))\n",
    "    \n",
    "    print()"
   ]
  },
  {
   "cell_type": "code",
   "execution_count": null,
   "metadata": {
    "scrolled": true
   },
   "outputs": [],
   "source": [
    "def language_m(textFiles):\n",
    "    model = language_model(3)\n",
    "    model.train(textFiles)\n",
    "    print('Train:', textFiles)\n",
    "    print('Perplexity:', model.test(textFiles), '\\t(on Test:' + textFiles + ')')\n",
    "    #print(model.story)\n",
    "    return model"
   ]
  },
  {
   "cell_type": "code",
   "execution_count": null,
   "metadata": {},
   "outputs": [],
   "source": [
    "def check(sentence, origin):\n",
    "    return sentence in origin"
   ]
  },
  {
   "cell_type": "code",
   "execution_count": null,
   "metadata": {
    "scrolled": false
   },
   "outputs": [],
   "source": [
    "import random\n",
    "def runLM(dataFiles):\n",
    "    print(\"\\n<TRAIN>\\n\")\n",
    "    cLM = language_m(dataFiles[0])\n",
    "    ncLM = language_m(dataFiles[1])\n",
    "    print(\"\\n</TRAIN>\\n\")\n",
    "    with open(dataFiles[2], 'r') as file:\n",
    "        c_titles = file.read().split('\\n\\n')\n",
    "    with open(dataFiles[3], 'r') as file:\n",
    "        nc_titles = file.read().split('\\n\\n')\n",
    "    \n",
    "    titles = c_titles + nc_titles\n",
    "    random.shuffle(titles)\n",
    "    length = len(titles)\n",
    "    i, num = 0, 0\n",
    "    print(\"\\n<TEST>\\n\")\n",
    "    while i < 20:\n",
    "        index = random.randint(0, length-1)\n",
    "        sentence = titles[index]\n",
    "        c_perp = cLM.test(sentence)\n",
    "        nc_perp = ncLM.test(sentence)\n",
    "        #print(c_perp, nc_perp, nc_perp-c_perp, nc_perp//2, abs((nc_perp-c_perp) - nc_perp//2))\n",
    "        \n",
    "        \n",
    "        ##TODO:Find the perplexity cutting off point substitute 3000 with that value or just change the condition\n",
    "        if c_perp < nc_perp and abs((nc_perp-c_perp) - nc_perp//2) < 3000:\n",
    "            print(\"Evaluation: CLICKBAIT, Check: \" + str(check(sentence, c_titles)) + \n",
    "                  \"\\n\\t\\tTitle: \\\"\" + sentence + \"\\\"\" )#+ \" Perp: \" + str(abs((nc_perp-c_perp) - nc_perp//2)))\n",
    "            if check(sentence, c_titles):\n",
    "                num+=1\n",
    "        else:\n",
    "            print(\"Evaluation: NOT CLICKBAIT, Check: \" + str(check(sentence, nc_titles)) + \n",
    "                  \"\\n\\t\\tTitle: \\\"\" + sentence + \"\\\"\" )#+ \" Perp: \" + str(abs((nc_perp-c_perp) - nc_perp//2)))\n",
    "            if check(sentence, c_titles):\n",
    "                num+=1\n",
    "        i += 1\n",
    "    print(\"Accuracy:\", num*5, \"%\")\n",
    "    print(\"\\n</TEST>\\n\")\n",
    "    while True:\n",
    "        sentence = input(\"Enter a sentence to predict whether it is clickbait or not ('stop' for stopping) : \\n\")\n",
    "\n",
    "        if sentence == \"stop\":\n",
    "            break;\n",
    "        c_perp = cLM.test(sentence)\n",
    "        nc_perp = ncLM.test(sentence)\n",
    "        ##\n",
    "        if c_perp < nc_perp and abs((nc_perp-c_perp) - nc_perp//2) < 3000:\n",
    "            print(\"\\nEvaluation for title:\\n\\\"\" + sentence + \"\\\"-> CLICKBAIT\\n\")\n",
    "        else:\n",
    "            print(\"\\nEvaluation for title:\\n\\\"\" + sentence + \"\\\"-> NOT CLICKBAIT\\n\")\n",
    "        print(\"\\n\" + \"____________________\" + \"\\n\")"
   ]
  },
  {
   "cell_type": "code",
   "execution_count": null,
   "metadata": {
    "scrolled": false
   },
   "outputs": [],
   "source": [
    "dataFiles = [\"train/clickbait_data1.txt\", \"train/non_clickbait_data1.txt\", \"test/clickbait_data2.txt\", \"test/non_clickbait_data2.txt\"]\n",
    "\n",
    "#runLM(dataFiles)"
   ]
  }
 ],
 "metadata": {
  "kernelspec": {
   "display_name": "Python 3",
   "language": "python",
   "name": "python3"
  },
  "language_info": {
   "codemirror_mode": {
    "name": "ipython",
    "version": 3
   },
   "file_extension": ".py",
   "mimetype": "text/x-python",
   "name": "python",
   "nbconvert_exporter": "python",
   "pygments_lexer": "ipython3",
   "version": "3.7.3"
  }
 },
 "nbformat": 4,
 "nbformat_minor": 2
}
